{
 "cells": [
  {
   "cell_type": "code",
   "execution_count": 1,
   "metadata": {},
   "outputs": [],
   "source": [
    "import matplotlib.pyplot as plt\n",
    "import seaborn as sns\n",
    "import matplotlib.patches as patches\n",
    "import pickle\n",
    "import numpy as np\n",
    "import pandas as pd\n",
    "from IPython.display import clear_output\n",
    "from scipy.stats import norm"
   ]
  },
  {
   "cell_type": "code",
   "execution_count": 2,
   "metadata": {},
   "outputs": [
    {
     "data": {
      "text/plain": [
       "<Figure size 518.4x374.4 with 0 Axes>"
      ]
     },
     "metadata": {},
     "output_type": "display_data"
    }
   ],
   "source": [
    "fig = plt.figure(figsize=(7.2, 5.2))"
   ]
  },
  {
   "cell_type": "code",
   "execution_count": 3,
   "metadata": {},
   "outputs": [],
   "source": [
    "param = '1'\n",
    "plt.rc('font', family='serif')\n",
    "plt.rcParams['pdf.fonttype'] = 42\n",
    "plt.rc('xtick', labelsize='x-small')\n",
    "plt.rc('ytick', labelsize='x-small')\n",
    "plt.rcParams.update({'font.size': 8})"
   ]
  },
  {
   "cell_type": "code",
   "execution_count": 4,
   "metadata": {},
   "outputs": [],
   "source": [
    "epLen = 5"
   ]
  },
  {
   "cell_type": "code",
   "execution_count": 5,
   "metadata": {},
   "outputs": [
    {
     "name": "stdout",
     "output_type": "stream",
     "text": [
      "            Unnamed: 0   iteration  epReward  Number of Balls  episode\n",
      "episode                                                               \n",
      "1509.0   264249.000000  175.000000  2.420000            500.0   1509.0\n",
      "1609.0   291319.555556  180.944444  2.426123            500.0   1609.0\n",
      "1709.0   317235.666667  185.518519  2.426123            500.0   1709.0\n",
      "1809.0   343899.000000  190.000000  2.426123            500.0   1809.0\n",
      "1909.0   372449.000000  195.000000  2.426123            500.0   1909.0\n",
      "            Unnamed: 0   iteration  epReward  Number of Balls  episode\n",
      "episode                                                               \n",
      "1509.0   264249.000000  175.000000  3.445384       243.408163   1509.0\n",
      "1609.0   291319.555556  180.944444  3.514366       247.333333   1609.0\n",
      "1709.0   317235.666667  185.518519  3.500517       249.444444   1709.0\n",
      "1809.0   343899.000000  190.000000  3.485556       252.894737   1809.0\n",
      "1909.0   372449.000000  195.000000  3.486630       259.333333   1909.0\n",
      "            Unnamed: 0   iteration  epReward  Number of Balls  episode\n",
      "episode                                                               \n",
      "1509.0   264249.000000  175.000000  3.045432       226.632653   1509.0\n",
      "1609.0   291319.555556  180.944444  3.147749       228.583333   1609.0\n",
      "1709.0   317235.666667  185.518519  2.995700       228.888889   1709.0\n",
      "1809.0   343899.000000  190.000000  3.071213       230.157895   1809.0\n",
      "1909.0   372449.000000  195.000000  3.254569       233.666667   1909.0\n",
      "            Unnamed: 0   iteration  epReward  Number of Balls  episode\n",
      "episode                                                               \n",
      "1509.0   264249.000000  175.000000  4.866168            500.0   1509.0\n",
      "1609.0   291319.555556  180.944444  4.879017            500.0   1609.0\n",
      "1709.0   317235.666667  185.518519  4.887259            500.0   1709.0\n",
      "1809.0   343899.000000  190.000000  4.884363            500.0   1809.0\n",
      "1909.0   372449.000000  195.000000  4.893938            500.0   1909.0\n",
      "            Unnamed: 0   iteration  epReward  Number of Balls  episode\n",
      "episode                                                               \n",
      "1509.0   264249.000000  175.000000  4.904498       194.918367   1509.0\n",
      "1609.0   291319.555556  180.944444  4.917203       206.500000   1609.0\n",
      "1709.0   317235.666667  185.518519  4.916637       214.444444   1709.0\n",
      "1809.0   343899.000000  190.000000  4.913770       220.052632   1809.0\n",
      "1909.0   372449.000000  195.000000  4.915860       227.000000   1909.0\n",
      "            Unnamed: 0   iteration  epReward  Number of Balls  episode\n",
      "episode                                                               \n",
      "1509.0   264249.000000  175.000000  4.864737       177.346939   1509.0\n",
      "1609.0   291319.555556  180.944444  4.865232       187.083333   1609.0\n",
      "1709.0   317235.666667  185.518519  4.876819       197.222222   1709.0\n",
      "1809.0   343899.000000  190.000000  4.879908       205.684211   1809.0\n",
      "1909.0   372449.000000  195.000000  4.868631       207.333333   1909.0\n"
     ]
    },
    {
     "data": {
      "image/png": "[encoded data removed]",
      "text/plain": [
       "<Figure size 417.6x252 with 2 Axes>"
      ]
     },
     "metadata": {
      "needs_background": "light"
     },
     "output_type": "display_data"
    }
   ],
   "source": [
    "problem = 'oil'\n",
    "typ = 'laplace'\n",
    "param = '10'\n",
    "\n",
    "\n",
    "        \n",
    "        \n",
    "        \n",
    "name_adapt = './data/'+problem+'_'+typ+'_'+param+'_adaQL.csv'\n",
    "name_adapt_model_based = './data/'+problem+'_'+typ+'_'+param+'_adaMB_Full.csv'\n",
    "# name_adapt_flag_model_based = './data/oil_'+problem+'_'+'adapt_flag_'+param+'.csv'\n",
    "name_net = './data/'+problem+'_'+typ+'_'+param+'_epsQL.csv'\n",
    "name_enet_model = './data/'+problem+'_'+typ+'_'+param+'_epsMB_One.csv'\n",
    "\n",
    "dt_adapt_model = pd.read_csv(name_adapt_model_based).groupby(['episode']).mean()\n",
    "dt_net_model = pd.read_csv(name_enet_model).groupby(['episode']).mean()\n",
    "dt_adapt = pd.read_csv(name_adapt).groupby(['episode']).mean()\n",
    "dt_net = pd.read_csv(name_net).groupby(['episode']).mean()\n",
    "\n",
    "max_val = max(dt_adapt.tail(1)['epReward'].iloc[0], dt_adapt_model.tail(1)['epReward'].iloc[0], dt_net.tail(1)['epReward'].iloc[0], dt_net_model.tail(1)['epReward'].iloc[0])\n",
    "min_val = min(dt_adapt.head(1)['epReward'].iloc[0], dt_adapt_model.head(1)['epReward'].iloc[0], dt_net.head(1)['epReward'].iloc[0], dt_net_model.head(1)['epReward'].iloc[0])\n",
    "\n",
    "dt_adapt_model['episode'] = dt_adapt_model.index.values\n",
    "dt_adapt_model = dt_adapt_model.iloc[::10, :]\n",
    "dt_net_model['episode'] = dt_net_model.index.values\n",
    "dt_net_model = dt_net_model.iloc[::10, :]\n",
    "dt_adapt['episode'] = dt_adapt.index.values\n",
    "dt_net['episode'] = dt_net.index.values\n",
    "dt_net = dt_net.iloc[::10, :]\n",
    "dt_adapt = dt_adapt.iloc[::10, :]\n",
    "\n",
    "\n",
    "fig = plt.figure(figsize=(5.8, 3.5))\n",
    "plt.subplot(2,2,1)\n",
    "\n",
    "plt.plot(dt_adapt['episode'], dt_adapt['epReward'], label='AdaQL')\n",
    "plt.plot(dt_adapt_model['episode'], dt_adapt_model['epReward'], label='AdaMB', linestyle='--')\n",
    "# plt.plot(dt_adapt_model_flag['episode'], dt_adapt_model_flag['epReward'], label='ModelAdaptiveFlag', linestyle='--')\n",
    "plt.plot(dt_net_model['episode'], dt_net_model['epReward'], label='epsilonMB', linestyle='--')\n",
    "plt.plot(dt_net['episode'], dt_net['epReward'], label = 'epsilonQL', linestyle='--')\n",
    "\n",
    "plt.ylim(min_val - .2,max_val+.2)\n",
    "plt.xlabel('Episode')\n",
    "plt.ylabel('Observed Reward')\n",
    "# plt.legend()\n",
    "plt.title('Oil Problem with Laplace Rewards')\n",
    "\n",
    "print(dt_net.tail())\n",
    "print(dt_adapt.tail())\n",
    "print(dt_adapt_model.tail())\n",
    "\n",
    "problem = 'ambulance'\n",
    "typ = 'beta'\n",
    "param = '1'\n",
    "\n",
    "\n",
    "name_adapt = './data/'+problem+'_'+typ+'_'+param+'_adaQL.csv'\n",
    "name_adapt_model_based = './data/'+problem+'_'+typ+'_'+param+'_adaMB_Full.csv'\n",
    "# name_adapt_flag_model_based = './data/oil_'+problem+'_'+'adapt_flag_'+param+'.csv'\n",
    "name_net = './data/'+problem+'_'+typ+'_'+param+'_epsQL.csv'\n",
    "name_enet_model = './data/'+problem+'_'+typ+'_'+param+'_epsMB_One.csv'\n",
    "\n",
    "dt_adapt_model = pd.read_csv(name_adapt_model_based).groupby(['episode']).mean()\n",
    "dt_net_model = pd.read_csv(name_enet_model).groupby(['episode']).mean()\n",
    "dt_adapt = pd.read_csv(name_adapt).groupby(['episode']).mean()\n",
    "dt_net = pd.read_csv(name_net).groupby(['episode']).mean()\n",
    "\n",
    "max_val = max(dt_adapt.tail(1)['epReward'].iloc[0], dt_adapt_model.tail(1)['epReward'].iloc[0], dt_net.tail(1)['epReward'].iloc[0], dt_net_model.tail(1)['epReward'].iloc[0])\n",
    "min_val = min(dt_adapt.head(1)['epReward'].iloc[0], dt_adapt_model.head(1)['epReward'].iloc[0], dt_net.head(1)['epReward'].iloc[0], dt_net_model.head(1)['epReward'].iloc[0])\n",
    "\n",
    "dt_adapt_model['episode'] = dt_adapt_model.index.values\n",
    "dt_adapt_model = dt_adapt_model.iloc[::10, :]\n",
    "dt_net_model['episode'] = dt_net_model.index.values\n",
    "dt_net_model = dt_net_model.iloc[::10, :]\n",
    "dt_adapt['episode'] = dt_adapt.index.values\n",
    "dt_net['episode'] = dt_net.index.values\n",
    "dt_net = dt_net.iloc[::10, :]\n",
    "dt_adapt = dt_adapt.iloc[::10, :]\n",
    "\n",
    "plt.subplot(2,2,2)\n",
    "\n",
    "plt.plot(dt_adapt['episode'], dt_adapt['epReward'], label='AdaQL')\n",
    "plt.plot(dt_adapt_model['episode'], dt_adapt_model['epReward'], label='AdaMB', linestyle='--')\n",
    "# plt.plot(dt_adapt_model_flag['episode'], dt_adapt_model_flag['epReward'], label='ModelAdaptiveFlag', linestyle='--')\n",
    "plt.plot(dt_net_model['episode'], dt_net_model['epReward'], label='epsilonMB', linestyle='--')\n",
    "plt.plot(dt_net['episode'], dt_net['epReward'], label = 'epsilonQL', linestyle='--')\n",
    "max_val = max(dt_adapt.tail(1)['epReward'].iloc[0], dt_adapt_model.tail(1)['epReward'].iloc[0], dt_net.tail(1)['epReward'].iloc[0], dt_net_model.tail(1)['epReward'].iloc[0])\n",
    "\n",
    "\n",
    "plt.ylim(min_val-.2,max_val+.2)\n",
    "plt.xlabel('Episode')\n",
    "plt.ylabel('Observed Reward')\n",
    "plt.legend()\n",
    "plt.title('Ambulance Problem with Beta Arrivals')\n",
    "\n",
    "print(dt_net.tail())\n",
    "print(dt_adapt.tail())\n",
    "print(dt_adapt_model.tail())\n",
    "\n",
    "plt.tight_layout()\n",
    "fig.savefig('combine_plot_paper.pdf', bbox_inches = 'tight',\n",
    "     pad_inches = 0.01, dpi=900)\n",
    "plt.show()\n",
    "\n",
    "\n",
    "\n",
    "\n",
    "\n"
   ]
  }
 ],
 "metadata": {
  "kernelspec": {
   "display_name": "Python 3",
   "language": "python",
   "name": "python3"
  },
  "language_info": {
   "codemirror_mode": {
    "name": "ipython",
    "version": 3
   },
   "file_extension": ".py",
   "mimetype": "text/x-python",
   "name": "python",
   "nbconvert_exporter": "python",
   "pygments_lexer": "ipython3",
   "version": "3.8.3"
  }
 },
 "nbformat": 4,
 "nbformat_minor": 4
}
